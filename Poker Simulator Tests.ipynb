{
 "cells": [
  {
   "cell_type": "code",
   "execution_count": 5,
   "metadata": {
    "collapsed": false,
    "jupyter": {
     "outputs_hidden": false
    }
   },
   "outputs": [],
   "source": [
    "from card_games import TexasHoldem, Poker"
   ]
  },
  {
   "cell_type": "code",
   "execution_count": 6,
   "metadata": {},
   "outputs": [],
   "source": [
    "p = TexasHoldem()"
   ]
  },
  {
   "cell_type": "code",
   "execution_count": 30,
   "metadata": {},
   "outputs": [
    {
     "name": "stdout",
     "output_type": "stream",
     "text": [
      "['6♥', '2♥', '6♥', '6♥', 'A♥', '8♥', '2♥', '3♥', '4♥', 'Q♥', 'K♥', '9♥', '5♥']\n"
     ]
    }
   ],
   "source": [
    "H = ['6♥', '2♥', '6♥', '6♥', 'A♥', '8♥', '2♥','3♥', '4♥', 'Q♥', 'K♥', '9♥', '5♥']\n",
    "print(H)"
   ]
  },
  {
   "cell_type": "code",
   "execution_count": 8,
   "metadata": {},
   "outputs": [
    {
     "data": {
      "text/plain": [
       "['A♥', 'K♥', 'Q♥', '9♥', '8♥', '6♥', '6♥', '6♥', '5♥', '4♥', '3♥', '2♥', '2♥']"
      ]
     },
     "execution_count": 8,
     "metadata": {},
     "output_type": "execute_result"
    }
   ],
   "source": [
    "p._sorted_rank(H)"
   ]
  },
  {
   "cell_type": "code",
   "execution_count": 9,
   "metadata": {},
   "outputs": [
    {
     "data": {
      "text/plain": [
       "['6♥', '2♥', '6♥', '6♥', 'A♥', '8♥', '2♥', '3♥', '4♥', 'Q♥', 'K♥', '9♥', '5♥']"
      ]
     },
     "execution_count": 9,
     "metadata": {},
     "output_type": "execute_result"
    }
   ],
   "source": [
    "p._sorted_suit(H)"
   ]
  },
  {
   "cell_type": "code",
   "execution_count": 10,
   "metadata": {},
   "outputs": [
    {
     "data": {
      "text/plain": [
       "['A♥', 'K♥', 'Q♥', '9♥', '8♥', '6♥', '6♥', '6♥', '5♥', '4♥', '3♥', '2♥', '2♥']"
      ]
     },
     "execution_count": 10,
     "metadata": {},
     "output_type": "execute_result"
    }
   ],
   "source": [
    "p.sorted_hand(H)"
   ]
  },
  {
   "cell_type": "code",
   "execution_count": 11,
   "metadata": {},
   "outputs": [
    {
     "data": {
      "text/plain": [
       "['A♥', 'K♥', 'Q♥', '9♥', '8♥', '6♥', '6♥', '6♥', '5♥', '4♥', '3♥', '2♥', '2♥']"
      ]
     },
     "execution_count": 11,
     "metadata": {},
     "output_type": "execute_result"
    }
   ],
   "source": [
    "p._sorted_suit(p._sorted_rank(H))"
   ]
  },
  {
   "cell_type": "code",
   "execution_count": 31,
   "metadata": {},
   "outputs": [
    {
     "name": "stdout",
     "output_type": "stream",
     "text": [
      "['A♥', 'K♥', 'Q♥', '9♥', '8♥', '6♥', '6♥', '6♥', '5♥', '4♥', '3♥', '2♥', '2♥'] \n",
      "\n",
      "1 highest rank (['A♥'], ['K♥', 'Q♥', '9♥', '8♥', '6♥', '6♥', '6♥', '5♥', '4♥', '3♥', '2♥', '2♥']) \n",
      "\n",
      "2 pair (['6♥', '6♥'], ['A♥', 'K♥', 'Q♥', '9♥', '8♥', '6♥', '5♥', '4♥', '3♥', '2♥', '2♥']) \n",
      "\n",
      "3 two pairs (['6♥', '6♥', '2♥', '2♥'], ['A♥', 'K♥', 'Q♥', '9♥', '8♥', '6♥', '5♥', '4♥', '3♥']) \n",
      "\n",
      "4 three (['6♥', '6♥', '6♥'], ['A♥', 'K♥', 'Q♥', '9♥', '8♥', '5♥', '4♥', '3♥', '2♥', '2♥']) \n",
      "\n",
      "5 straight (['5♥', '4♥', '3♥', '2♥', 'A♥'], ['K♥', 'Q♥', '9♥', '8♥', '6♥', '6♥', '6♥', '2♥']) \n",
      "\n",
      "6 flush (['A♥', 'K♥', 'Q♥', '9♥', '8♥'], ['6♥', '6♥', '6♥', '5♥', '4♥', '3♥', '2♥', '2♥']) \n",
      "\n",
      "7 full house (['6♥', '6♥', '6♥', '2♥', '2♥'], ['A♥', 'K♥', 'Q♥', '9♥', '8♥', '5♥', '4♥', '3♥']) \n",
      "\n",
      "8 four ([], ['A♥', 'K♥', 'Q♥', '9♥', '8♥', '6♥', '6♥', '6♥', '5♥', '4♥', '3♥', '2♥', '2♥']) \n",
      "\n",
      "9 straight flush (['5♥', '4♥', '3♥', '2♥', 'A♥'], ['K♥', 'Q♥', '9♥', '8♥', '6♥', '6♥', '6♥', '2♥']) \n",
      "\n",
      "10 royal straight flush ([], ['A♥', 'K♥', 'Q♥', '9♥', '8♥', '6♥', '6♥', '6♥', '5♥', '4♥', '3♥', '2♥', '2♥']) \n",
      "\n"
     ]
    }
   ],
   "source": [
    "print(p.sorted_hand(H), '\\n')\n",
    "for (a,b),c in p.get_hand_categories().items():\n",
    "    print(a,b,c(H), '\\n')"
   ]
  },
  {
   "cell_type": "code",
   "execution_count": 13,
   "metadata": {},
   "outputs": [
    {
     "data": {
      "text/plain": [
       "((9, 'straight flush'),\n",
       " (5, 4, 3, 2, 14),\n",
       " (13, 12, 9, 8, 6, 6, 6, 2),\n",
       " (3, 3, 3, 3, 3),\n",
       " (3, 3, 3, 3, 3, 3, 3, 3))"
      ]
     },
     "execution_count": 13,
     "metadata": {},
     "output_type": "execute_result"
    }
   ],
   "source": [
    "p.evaluate_hand(H)"
   ]
  },
  {
   "cell_type": "code",
   "execution_count": 24,
   "metadata": {},
   "outputs": [
    {
     "data": {
      "text/plain": [
       "{0: ((1, 'highest rank'), (14,), (7, 4, 3, 2), (1,), (1, 3, 1, 4)),\n",
       " 1: ((1, 'highest rank'), (11,), (10, 8, 4, 3), (4,), (1, 4, 2, 2)),\n",
       " 2: ((1, 'highest rank'), (14,), (13, 8, 6, 2), (2,), (3, 2, 2, 2)),\n",
       " 3: ((1, 'highest rank'), (8,), (7, 5, 3, 2), (1,), (3, 1, 4, 3)),\n",
       " 4: ((1, 'highest rank'), (9,), (8, 6, 5, 4), (3,), (3, 3, 3, 1)),\n",
       " 5: ((5, 'straight'), (13, 12, 11, 10, 9), (), (4, 1, 1, 4, 4), ()),\n",
       " 6: ((5, 'straight'), (13, 12, 11, 10, 9), (), (1, 2, 3, 3, 1), ()),\n",
       " 7: ((2, 'pair'), (5, 5), (11, 7, 4), (4, 2), (2, 4, 4))}"
      ]
     },
     "execution_count": 24,
     "metadata": {},
     "output_type": "execute_result"
    }
   ],
   "source": [
    "for i in range(10000):\n",
    "    p = Poker(num_players=8)\n",
    "    p.shuffle()\n",
    "    r = p.evaluate_players()\n",
    "    if len(p.winners().items())>1:\n",
    "        break\n",
    "r"
   ]
  },
  {
   "cell_type": "code",
   "execution_count": 25,
   "metadata": {},
   "outputs": [
    {
     "data": {
      "text/plain": [
       "{5: ((5, 'straight'), (13, 12, 11, 10, 9), (), (4, 1, 1, 4, 4), ()),\n",
       " 6: ((5, 'straight'), (13, 12, 11, 10, 9), (), (1, 2, 3, 3, 1), ())}"
      ]
     },
     "execution_count": 25,
     "metadata": {},
     "output_type": "execute_result"
    }
   ],
   "source": [
    "p.winners()"
   ]
  },
  {
   "cell_type": "code",
   "execution_count": 26,
   "metadata": {},
   "outputs": [
    {
     "data": {
      "text/plain": [
       "(6, ((5, 'straight'), (13, 12, 11, 10, 9), (), (1, 2, 3, 3, 1), ()))"
      ]
     },
     "execution_count": 26,
     "metadata": {},
     "output_type": "execute_result"
    }
   ],
   "source": [
    "p.winner()"
   ]
  },
  {
   "cell_type": "code",
   "execution_count": 27,
   "metadata": {},
   "outputs": [
    {
     "data": {
      "text/plain": [
       "[['2♠', '7♣', 'A♣', '4♥', '3♣'],\n",
       " ['8♠', 'T♣', 'J♠', '3♦', '4♦'],\n",
       " ['2♦', '6♦', 'K♥', '8♦', 'A♦'],\n",
       " ['8♣', '3♠', '7♥', '2♥', '5♣'],\n",
       " ['5♥', '8♥', '6♥', '9♥', '4♣'],\n",
       " ['J♣', '9♠', 'Q♣', 'K♠', 'T♠'],\n",
       " ['K♣', 'J♥', 'T♥', '9♣', 'Q♦'],\n",
       " ['7♠', '4♠', '5♠', '5♦', 'J♦']]"
      ]
     },
     "execution_count": 27,
     "metadata": {},
     "output_type": "execute_result"
    }
   ],
   "source": [
    "p.players"
   ]
  },
  {
   "cell_type": "code",
   "execution_count": 28,
   "metadata": {},
   "outputs": [
    {
     "data": {
      "text/plain": [
       "[]"
      ]
     },
     "execution_count": 28,
     "metadata": {},
     "output_type": "execute_result"
    }
   ],
   "source": [
    "p.table"
   ]
  }
 ],
 "metadata": {
  "hide_input": false,
  "kernelspec": {
   "display_name": "Python 3",
   "language": "python",
   "name": "python3"
  },
  "language_info": {
   "codemirror_mode": {
    "name": "ipython",
    "version": 3
   },
   "file_extension": ".py",
   "mimetype": "text/x-python",
   "name": "python",
   "nbconvert_exporter": "python",
   "pygments_lexer": "ipython3",
   "version": "3.8.2"
  },
  "toc": {
   "colors": {
    "hover_highlight": "#DAA520",
    "running_highlight": "#FF0000",
    "selected_highlight": "#FFD700"
   },
   "moveMenuLeft": true,
   "nav_menu": {
    "height": "12px",
    "width": "252px"
   },
   "navigate_menu": true,
   "number_sections": true,
   "sideBar": true,
   "threshold": 4,
   "toc_cell": false,
   "toc_section_display": "block",
   "toc_window_display": false
  }
 },
 "nbformat": 4,
 "nbformat_minor": 4
}
