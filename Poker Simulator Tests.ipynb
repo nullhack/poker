{
 "cells": [
  {
   "cell_type": "code",
   "execution_count": 4,
   "metadata": {
    "collapsed": true
   },
   "outputs": [],
   "source": [
    "txt = \"\"\"\n",
    "1suit 45 %\n",
    "\n",
    "2samesuit 6 %\n",
    "\n",
    "1rank - 4.2% each in deck\n",
    "    1specific 4.2 %\n",
    "\n",
    "2rank - 0.37% each in deck\n",
    "    2specific 0.1 %\n",
    "    \n",
    "gambler's ruin'\n",
    "\n",
    "if p=0.5 => $p = n1/(n1+n2)$\n",
    "\n",
    "\"\"\""
   ]
  },
  {
   "cell_type": "code",
   "execution_count": 2,
   "metadata": {
    "collapsed": false
   },
   "outputs": [],
   "source": [
    "from card_games import TexasHoldem"
   ]
  },
  {
   "cell_type": "code",
   "execution_count": 3,
   "metadata": {
    "collapsed": false
   },
   "outputs": [],
   "source": [
    "x = TexasHoldem(num_players=3)\n",
    "def f(n=1000):\n",
    "    d = {}\n",
    "    for i in range(n):\n",
    "        x.shuffle()\n",
    "        d[x.winner()[0][0]] = d.get(x.winner()[0][0], 0) + 1\n",
    "    print(d)"
   ]
  },
  {
   "cell_type": "code",
   "execution_count": 4,
   "metadata": {
    "collapsed": false,
    "scrolled": false
   },
   "outputs": [
    {
     "name": "stdout",
     "output_type": "stream",
     "text": [
      "(((7, 'full house'), 11), [0, 1, 2, 3]) [['8♣', '5♦'], ['7♣', 'A♣'], ['2♣', 'A♦'], ['6♠', 'A♠']] ['J♣', 'K♥', 'K♦', 'J♥', 'J♠']\n",
      "(((7, 'full house'), 2), [0, 1, 2]) [['3♥', 'T♠'], ['8♥', '5♠'], ['Q♦', 'Q♥'], ['K♠', '6♠']] ['2♠', '3♦', '2♥', '5♦', '2♦']\n"
     ]
    }
   ],
   "source": [
    "x = TexasHoldem(num_players=4)\n",
    "for i in range(1000):\n",
    "    x.shuffle()\n",
    "    w = x.winner()\n",
    "    if w[0][0][0]==7 and len(w[1])>2:\n",
    "        print(w, x.players(), x.table())"
   ]
  },
  {
   "cell_type": "code",
   "execution_count": null,
   "metadata": {
    "collapsed": true
   },
   "outputs": [],
   "source": []
  }
 ],
 "metadata": {
  "hide_input": false,
  "kernelspec": {
   "display_name": "Python 3",
   "language": "python",
   "name": "python3"
  },
  "language_info": {
   "codemirror_mode": {
    "name": "ipython",
    "version": 3
   },
   "file_extension": ".py",
   "mimetype": "text/x-python",
   "name": "python",
   "nbconvert_exporter": "python",
   "pygments_lexer": "ipython3",
   "version": "3.5.2"
  },
  "toc": {
   "colors": {
    "hover_highlight": "#DAA520",
    "running_highlight": "#FF0000",
    "selected_highlight": "#FFD700"
   },
   "moveMenuLeft": true,
   "nav_menu": {
    "height": "12px",
    "width": "252px"
   },
   "navigate_menu": true,
   "number_sections": true,
   "sideBar": true,
   "threshold": 4,
   "toc_cell": false,
   "toc_section_display": "block",
   "toc_window_display": false
  }
 },
 "nbformat": 4,
 "nbformat_minor": 2
}
