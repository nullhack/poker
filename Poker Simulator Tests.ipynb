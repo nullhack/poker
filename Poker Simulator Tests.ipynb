{
 "cells": [
  {
   "cell_type": "code",
   "execution_count": 26,
   "metadata": {
    "collapsed": false,
    "jupyter": {
     "outputs_hidden": false
    }
   },
   "outputs": [],
   "source": [
    "from card_games import TexasHoldem, Poker, Deck"
   ]
  },
  {
   "cell_type": "code",
   "execution_count": 2,
   "metadata": {},
   "outputs": [],
   "source": [
    "p = TexasHoldem()"
   ]
  },
  {
   "cell_type": "code",
   "execution_count": 25,
   "metadata": {},
   "outputs": [
    {
     "name": "stdout",
     "output_type": "stream",
     "text": [
      "players: [['5♣', '2♦'], ['J♥', '9♠'], ['9♦', 'K♦'], ['3♦', '3♣'], ['7♥', 'A♣']]\n",
      "table: ['5♥', 'J♣', 'A♥', '8♦', '8♥']\n",
      "winners: {4: ((3, 'two pairs'), (14, 14, 8, 8), (11, 7, 5), (3, 1, 3, 2), (1, 3, 3))}\n",
      "evaluate hand of player 0: ((1, 'highest rank'), (5,), (2,), (1,), (2,))\n",
      "evaluate the hand ['6♣', '2♠', '6♠', '6♥', 'A♥', '8♦']: ((4, 'three'), (6, 6, 6), (14, 8, 2), (4, 3, 1), (3, 2, 4))\n"
     ]
    }
   ],
   "source": [
    "p = TexasHoldem(num_players=5)\n",
    "p.shuffle()\n",
    "print(f'players: {p.players}')\n",
    "print(f'table: {p.table}')\n",
    "print(f'winners: {p.winners}')\n",
    "print(f'evaluate hand of player 0: {p.evaluate_hand(p.player(0))}')\n",
    "hand = ['6♣', '2♠', '6♠', '6♥', 'A♥', '8♦']\n",
    "print(f'evaluate the hand {hand}: {p.evaluate_hand(hand)}')"
   ]
  },
  {
   "cell_type": "code",
   "execution_count": 36,
   "metadata": {},
   "outputs": [
    {
     "name": "stdout",
     "output_type": "stream",
     "text": [
      "{'♣': 1, '♦': 2, '♥': 3, '♠': 4}\n",
      "{'2': 2, '3': 3, '4': 4, '5': 5, '6': 6, '7': 7, '8': 8, '9': 9, 'T': 10, 'J': 11, 'Q': 12, 'K': 13, 'A': 14}\n",
      "dict_keys([(1, 'highest rank'), (2, 'pair'), (3, 'two pairs'), (4, 'three'), (5, 'straight'), (6, 'flush'), (7, 'full house'), (8, 'four'), (9, 'straight flush'), (10, 'royal straight flush')])\n"
     ]
    }
   ],
   "source": [
    "d = Deck()\n",
    "print(d.suits_weight)\n",
    "print(d.ranks_weight)\n",
    "print(p.get_hand_categories().keys())"
   ]
  },
  {
   "cell_type": "code",
   "execution_count": 37,
   "metadata": {},
   "outputs": [
    {
     "name": "stdout",
     "output_type": "stream",
     "text": [
      "['6♣', '2♠', '6♠', '6♥', 'A♥', '8♦', '2♥', '3♥', '4♦', 'Q♣', 'K♥', '9♥', '5♥']\n"
     ]
    }
   ],
   "source": [
    "H = ['6♣', '2♠', '6♠', '6♥', 'A♥', '8♦', '2♥','3♥', '4♦', 'Q♣', 'K♥', '9♥', '5♥']\n",
    "print(H)"
   ]
  },
  {
   "cell_type": "code",
   "execution_count": 5,
   "metadata": {},
   "outputs": [
    {
     "data": {
      "text/plain": [
       "['A♥', 'K♥', 'Q♣', '9♥', '8♦', '6♣', '6♠', '6♥', '5♥', '4♦', '3♥', '2♠', '2♥']"
      ]
     },
     "execution_count": 5,
     "metadata": {},
     "output_type": "execute_result"
    }
   ],
   "source": [
    "p._sorted_rank(H)"
   ]
  },
  {
   "cell_type": "code",
   "execution_count": 6,
   "metadata": {},
   "outputs": [
    {
     "data": {
      "text/plain": [
       "['2♠', '6♠', '6♥', 'A♥', '2♥', '3♥', 'K♥', '9♥', '5♥', '8♦', '4♦', '6♣', 'Q♣']"
      ]
     },
     "execution_count": 6,
     "metadata": {},
     "output_type": "execute_result"
    }
   ],
   "source": [
    "p._sorted_suit(H)"
   ]
  },
  {
   "cell_type": "code",
   "execution_count": 7,
   "metadata": {},
   "outputs": [
    {
     "data": {
      "text/plain": [
       "['A♥', 'K♥', 'Q♣', '9♥', '8♦', '6♠', '6♥', '6♣', '5♥', '4♦', '3♥', '2♠', '2♥']"
      ]
     },
     "execution_count": 7,
     "metadata": {},
     "output_type": "execute_result"
    }
   ],
   "source": [
    "p.sorted_hand(H)"
   ]
  },
  {
   "cell_type": "code",
   "execution_count": 8,
   "metadata": {},
   "outputs": [
    {
     "data": {
      "text/plain": [
       "['6♠', '2♠', 'A♥', 'K♥', '9♥', '6♥', '5♥', '3♥', '2♥', '8♦', '4♦', 'Q♣', '6♣']"
      ]
     },
     "execution_count": 8,
     "metadata": {},
     "output_type": "execute_result"
    }
   ],
   "source": [
    "p._sorted_suit(p._sorted_rank(H))"
   ]
  },
  {
   "cell_type": "code",
   "execution_count": 9,
   "metadata": {},
   "outputs": [
    {
     "name": "stdout",
     "output_type": "stream",
     "text": [
      "['A♥', 'K♥', 'Q♣', '9♥', '8♦', '6♠', '6♥', '6♣', '5♥', '4♦', '3♥', '2♠', '2♥'] \n",
      "\n",
      "1 highest rank (['A♥'], ['K♥', 'Q♣', '9♥', '8♦', '6♠', '6♥', '6♣', '5♥', '4♦', '3♥', '2♠', '2♥']) \n",
      "\n",
      "2 pair (['6♠', '6♥'], ['A♥', 'K♥', 'Q♣', '9♥', '8♦', '6♣', '5♥', '4♦', '3♥', '2♠', '2♥']) \n",
      "\n",
      "3 two pairs (['6♠', '6♥', '2♠', '2♥'], ['A♥', 'K♥', 'Q♣', '9♥', '8♦', '6♣', '5♥', '4♦', '3♥']) \n",
      "\n",
      "4 three (['6♠', '6♥', '6♣'], ['A♥', 'K♥', 'Q♣', '9♥', '8♦', '5♥', '4♦', '3♥', '2♠', '2♥']) \n",
      "\n",
      "5 straight (['5♥', '4♦', '3♥', '2♠', 'A♥'], ['K♥', 'Q♣', '9♥', '8♦', '6♠', '6♥', '6♣', '2♥']) \n",
      "\n",
      "6 flush (['A♥', 'K♥', '9♥', '6♥', '5♥'], ['Q♣', '8♦', '6♠', '6♣', '4♦', '3♥', '2♠', '2♥']) \n",
      "\n",
      "7 full house (['6♠', '6♥', '6♣', '2♠', '2♥'], ['A♥', 'K♥', 'Q♣', '9♥', '8♦', '5♥', '4♦', '3♥']) \n",
      "\n",
      "8 four ([], ['A♥', 'K♥', 'Q♣', '9♥', '8♦', '6♠', '6♥', '6♣', '5♥', '4♦', '3♥', '2♠', '2♥']) \n",
      "\n",
      "9 straight flush ([], ['A♥', 'K♥', 'Q♣', '9♥', '8♦', '6♠', '6♥', '6♣', '5♥', '4♦', '3♥', '2♠', '2♥']) \n",
      "\n",
      "10 royal straight flush ([], ['A♥', 'K♥', 'Q♣', '9♥', '8♦', '6♠', '6♥', '6♣', '5♥', '4♦', '3♥', '2♠', '2♥']) \n",
      "\n"
     ]
    }
   ],
   "source": [
    "print(p.sorted_hand(H), '\\n')\n",
    "for (a,b),c in p.get_hand_categories().items():\n",
    "    print(a,b,c(H), '\\n')"
   ]
  },
  {
   "cell_type": "code",
   "execution_count": 10,
   "metadata": {},
   "outputs": [
    {
     "data": {
      "text/plain": [
       "((7, 'full house'),\n",
       " (6, 6, 6, 2, 2),\n",
       " (14, 13, 12, 9, 8, 5, 4, 3),\n",
       " (4, 3, 1, 4, 3),\n",
       " (3, 3, 1, 3, 2, 3, 2, 3))"
      ]
     },
     "execution_count": 10,
     "metadata": {},
     "output_type": "execute_result"
    }
   ],
   "source": [
    "p.evaluate_hand(H)"
   ]
  },
  {
   "cell_type": "code",
   "execution_count": 11,
   "metadata": {},
   "outputs": [
    {
     "data": {
      "text/plain": [
       "{0: ((1, 'highest rank'), (11,), (10, 8, 5, 3), (4,), (4, 3, 1, 2)),\n",
       " 1: ((1, 'highest rank'), (14,), (13, 8, 4, 2), (1,), (1, 1, 3, 1)),\n",
       " 2: ((1, 'highest rank'), (14,), (13, 12, 7, 6), (4,), (3, 3, 3, 1)),\n",
       " 3: ((1, 'highest rank'), (10,), (9, 8, 5, 4), (3,), (1, 4, 4, 1)),\n",
       " 4: ((1, 'highest rank'), (11,), (10, 7, 6, 4), (2,), (2, 4, 3, 4)),\n",
       " 5: ((1, 'highest rank'), (14,), (13, 12, 7, 6), (2,), (4, 2, 2, 4)),\n",
       " 6: ((1, 'highest rank'), (13,), (12, 6, 5, 3), (2,), (1, 2, 3, 3)),\n",
       " 7: ((1, 'highest rank'), (11,), (10, 7, 3, 2), (1,), (1, 1, 1, 2))}"
      ]
     },
     "execution_count": 11,
     "metadata": {},
     "output_type": "execute_result"
    }
   ],
   "source": [
    "for i in range(10000):\n",
    "    p = Poker(num_players=8)\n",
    "    p.shuffle()\n",
    "    r = p.evaluate_players()\n",
    "    if len(p.winners.items())>1:\n",
    "        break\n",
    "r"
   ]
  },
  {
   "cell_type": "code",
   "execution_count": 12,
   "metadata": {},
   "outputs": [
    {
     "data": {
      "text/plain": [
       "{2: ((1, 'highest rank'), (14,), (13, 12, 7, 6), (4,), (3, 3, 3, 1)),\n",
       " 5: ((1, 'highest rank'), (14,), (13, 12, 7, 6), (2,), (4, 2, 2, 4))}"
      ]
     },
     "execution_count": 12,
     "metadata": {},
     "output_type": "execute_result"
    }
   ],
   "source": [
    "p.winners"
   ]
  },
  {
   "cell_type": "code",
   "execution_count": 13,
   "metadata": {},
   "outputs": [
    {
     "data": {
      "text/plain": [
       "(5, ((1, 'highest rank'), (14,), (13, 12, 7, 6), (2,), (4, 2, 2, 4)))"
      ]
     },
     "execution_count": 13,
     "metadata": {},
     "output_type": "execute_result"
    }
   ],
   "source": [
    "p.winner"
   ]
  },
  {
   "cell_type": "code",
   "execution_count": 14,
   "metadata": {},
   "outputs": [
    {
     "data": {
      "text/plain": [
       "[['T♠', '8♥', 'J♠', '3♦', '5♣'],\n",
       " ['A♣', '4♥', 'K♣', '8♣', '2♣'],\n",
       " ['K♥', 'A♠', '7♥', '6♣', 'Q♥'],\n",
       " ['4♣', 'T♥', '5♠', '8♠', '9♣'],\n",
       " ['6♥', '7♠', '4♠', 'J♦', 'T♦'],\n",
       " ['6♠', 'Q♦', '7♦', 'A♦', 'K♠'],\n",
       " ['K♦', '5♥', 'Q♣', '3♥', '6♦'],\n",
       " ['T♣', '3♣', '2♦', 'J♣', '7♣']]"
      ]
     },
     "execution_count": 14,
     "metadata": {},
     "output_type": "execute_result"
    }
   ],
   "source": [
    "p.players"
   ]
  },
  {
   "cell_type": "code",
   "execution_count": 15,
   "metadata": {},
   "outputs": [
    {
     "data": {
      "text/plain": [
       "[]"
      ]
     },
     "execution_count": 15,
     "metadata": {},
     "output_type": "execute_result"
    }
   ],
   "source": [
    "p.table"
   ]
  },
  {
   "cell_type": "code",
   "execution_count": null,
   "metadata": {},
   "outputs": [],
   "source": []
  }
 ],
 "metadata": {
  "hide_input": false,
  "kernelspec": {
   "display_name": "Python 3",
   "language": "python",
   "name": "python3"
  },
  "language_info": {
   "codemirror_mode": {
    "name": "ipython",
    "version": 3
   },
   "file_extension": ".py",
   "mimetype": "text/x-python",
   "name": "python",
   "nbconvert_exporter": "python",
   "pygments_lexer": "ipython3",
   "version": "3.8.2"
  },
  "toc": {
   "colors": {
    "hover_highlight": "#DAA520",
    "running_highlight": "#FF0000",
    "selected_highlight": "#FFD700"
   },
   "moveMenuLeft": true,
   "nav_menu": {
    "height": "12px",
    "width": "252px"
   },
   "navigate_menu": true,
   "number_sections": true,
   "sideBar": true,
   "threshold": 4,
   "toc_cell": false,
   "toc_section_display": "block",
   "toc_window_display": false
  }
 },
 "nbformat": 4,
 "nbformat_minor": 4
}
