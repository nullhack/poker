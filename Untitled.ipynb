{
 "cells": [
  {
   "cell_type": "code",
   "execution_count": 95,
   "metadata": {
    "collapsed": true
   },
   "outputs": [],
   "source": [
    "import itertools\n",
    "import random"
   ]
  },
  {
   "cell_type": "code",
   "execution_count": 382,
   "metadata": {
    "collapsed": true
   },
   "outputs": [],
   "source": [
    "ranks = ['2', '3', '4', '5', '6', '7', '8', '9', '10', 'J', 'Q', 'K', 'A']\n",
    "suits = ['Clubs', 'Diamonds', 'Hearts', 'Spades']\n",
    "deck = list(itertools.product(ranks, suits))"
   ]
  },
  {
   "cell_type": "code",
   "execution_count": 114,
   "metadata": {
    "collapsed": true
   },
   "outputs": [],
   "source": [
    "ranks_weight = {'2':2, '3':3, '4':4, '5':5, '6':6, '7':7,  '8':8,  '9':9,  '10':10,  'J':11,  'Q':12,  'K':13, 'A':14}\n",
    "suits_weight = {'Clubs':1, 'Diamonds':2, 'Hearts':3, 'Spades':4}"
   ]
  },
  {
   "cell_type": "code",
   "execution_count": 115,
   "metadata": {
    "collapsed": false
   },
   "outputs": [],
   "source": [
    "N = 23\n",
    "H = 2\n",
    "T = 5\n",
    "table = random.sample(deck, T + H*N)\n",
    "game = table[:T],[table[T+i*H:T+(i+1)*H] for i in range(N)]"
   ]
  },
  {
   "cell_type": "code",
   "execution_count": 117,
   "metadata": {
    "collapsed": true
   },
   "outputs": [],
   "source": [
    "t = game[0]\n",
    "h = game[1][0]\n",
    "big_suit = sorted(t+h, key=lambda k: suits_weight[k[1]], reverse=True)\n",
    "big_rank = sorted(big_suit, key=lambda k: ranks_weight[k[0]], reverse=True)"
   ]
  },
  {
   "cell_type": "code",
   "execution_count": 410,
   "metadata": {
    "collapsed": false
   },
   "outputs": [],
   "source": [
    "ranks_weight = {'2':2, '3':3, '4':4, '5':5, '6':6, '7':7,  '8':8,  '9':9,  '10':10,  'J':11,  'Q':12,  'K':13, 'A':14}\n",
    "suits_weight = {'Clubs':1, 'Diamonds':2, 'Hearts':3, 'Spades':4}\n",
    "\n",
    "def get_sorted_rank(H):\n",
    "    return sorted(H, key=lambda k: ranks_weight[k[0]], reverse=True)\n",
    "\n",
    "def get_sorted_suit(H):\n",
    "    return sorted(H, key=lambda k: suits_weight[k[1]], reverse=True)\n",
    "\n",
    "def highest_rank(H):\n",
    "    return H[:1], H[1:]\n",
    "\n",
    "def highest_pair(H):\n",
    "    r = [],H\n",
    "    for i in range(len(H)-1):\n",
    "        if H[i][0]==H[i+1][0]:\n",
    "            r = H[i:i+2],H[0:i]+H[i+2:]\n",
    "            break\n",
    "    return r\n",
    "\n",
    "def highest_2_pairs(H):\n",
    "    r = [],H\n",
    "    a,b = highest_pair(H)\n",
    "    if a: \n",
    "        c,d = highest_pair(b)\n",
    "        if c:\n",
    "            r = a+c,d\n",
    "    return r\n",
    "\n",
    "def highest_three(H):\n",
    "    r = [],H\n",
    "    for i in range(len(H)-2):\n",
    "        if H[i][0]==H[i+1][0]==H[i+2][0]:\n",
    "            r = H[i:i+2],H[0:i]+H[i+2:]\n",
    "            break\n",
    "    return r\n",
    "\n",
    "def highest_straight(H):\n",
    "    r = [],[i for i in H]\n",
    "    v0 = 6 if H[0][0]=='A' else 0\n",
    "    U,D = [],[]\n",
    "    last = H.pop(0)\n",
    "    U.append(last)\n",
    "    for i in range(len(H)):\n",
    "        new = H.pop(0)\n",
    "        if last[0]==new[0]:\n",
    "            D.append(new)\n",
    "        else:\n",
    "            U.append(new)\n",
    "            last = new\n",
    "    v1=v2=v3=v4=v5=-1\n",
    "    for i in range(len(U)-4):\n",
    "        v1 = ranks_weight[U[i][0]]\n",
    "        v2 = ranks_weight[U[i+1][0]]+1\n",
    "        v3 = ranks_weight[U[i+2][0]]+2\n",
    "        v4 = ranks_weight[U[i+3][0]]+3\n",
    "        v5 = ranks_weight[U[i+4][0]]+4\n",
    "        if v1==v2==v3==v4==v5:\n",
    "            r = U[i:i+5],get_sorted_rank(U[i+5:]+U[0:i]+D)\n",
    "            break\n",
    "    if v0==v2==v3==v4==v5:\n",
    "        r = U[0:1]+U[-4:],get_sorted_rank(D+U[1:-4])\n",
    "\n",
    "    return r\n",
    "\n",
    "def highest_flush(H):\n",
    "    H = get_sorted_suit(H)\n",
    "    r = [],H\n",
    "    for i in range(len(H)-4):\n",
    "        if H[i][1]==H[i+1][1]==H[i+2][1]==H[i+3][1]==H[i+4][1]:\n",
    "            r = get_sorted_rank(H[i:i+4]),get_sorted_rank(H[0:i]+H[i+4:])\n",
    "            break\n",
    "    return r\n",
    "\n",
    "def highest_full_house(H):\n",
    "    r = [],H\n",
    "    a,b = highest_three(H)\n",
    "    if a: \n",
    "        c,d = highest_pair(b)\n",
    "        if c:\n",
    "            r = a+c,d\n",
    "    return r\n",
    "\n",
    "def highest_four(H):\n",
    "    r = [],H\n",
    "    for i in range(len(H)-3):\n",
    "        if H[i][0]==H[i+1][0] and H[i+1][0]==H[i+2][0] and H[i+2][0]==H[i+3][0]:\n",
    "            r = H[i:i+4],H[0:i]+H[i+4:]\n",
    "            break\n",
    "    return r\n",
    "\n",
    "def highest_straight_flush(H):\n",
    "    r = [],H\n",
    "    a,b = highest_straight(H)\n",
    "    if a: \n",
    "        c,d = highest_flush(a)\n",
    "        if c:\n",
    "            r = a,b\n",
    "    return r\n",
    "\n",
    "def highest_royal_straight_flush(H):\n",
    "    r = [],H\n",
    "    a,b = highest_straight_flush(H)\n",
    "    if a and a[0][0]=='A': \n",
    "        r = a,b\n",
    "    return r"
   ]
  },
  {
   "cell_type": "code",
   "execution_count": 447,
   "metadata": {
    "collapsed": false,
    "scrolled": false
   },
   "outputs": [
    {
     "name": "stdout",
     "output_type": "stream",
     "text": [
      ">> 2\n",
      "highest_rank 94.22\n",
      "highest_pair 5.78\n",
      "highest_2_pairs 0.0\n",
      "highest_three 0.0\n",
      "highest_straight 0.0\n",
      "highest_flush 0.0\n",
      "highest_full_house 0.0\n",
      "highest_four 0.0\n",
      "highest_straight_flush 0.0\n",
      "highest_royal_straight_flush 0.0\n",
      ">> 5\n",
      "highest_rank 50.4\n",
      "highest_pair 41.86\n",
      "highest_2_pairs 4.85\n",
      "highest_three 2.14\n",
      "highest_straight 0.37\n",
      "highest_flush 0.2\n",
      "highest_full_house 0.15\n",
      "highest_four 0.04\n",
      "highest_straight_flush 0.0\n",
      "highest_royal_straight_flush 0.0\n",
      ">> 6\n",
      "highest_rank 32.36\n",
      "highest_pair 48.04\n",
      "highest_2_pairs 12.28\n",
      "highest_three 3.6\n",
      "highest_straight 1.88\n",
      "highest_flush 0.92\n",
      "highest_full_house 0.88\n",
      "highest_four 0.05\n",
      "highest_straight_flush 0.0\n",
      "highest_royal_straight_flush 0.0\n",
      ">> 7\n",
      "highest_rank 17.46\n",
      "highest_pair 43.86\n",
      "highest_2_pairs 23.26\n",
      "highest_three 4.74\n",
      "highest_straight 4.71\n",
      "highest_flush 3.03\n",
      "highest_full_house 2.73\n",
      "highest_four 0.19\n",
      "highest_straight_flush 0.01\n",
      "highest_royal_straight_flush 0.0\n",
      ">> 9\n",
      "highest_rank 1.92\n",
      "highest_pair 15.99\n",
      "highest_2_pairs 39.66\n",
      "highest_three 3.89\n",
      "highest_straight 13.82\n",
      "highest_flush 12.65\n",
      "highest_full_house 11.45\n",
      "highest_four 0.54\n",
      "highest_straight_flush 0.05\n",
      "highest_royal_straight_flush 0.03\n",
      ">> 11\n",
      "highest_rank 0.0\n",
      "highest_pair 0.66\n",
      "highest_2_pairs 24.34\n",
      "highest_three 0.84\n",
      "highest_straight 18.49\n",
      "highest_flush 26.46\n",
      "highest_full_house 27.48\n",
      "highest_four 1.6\n",
      "highest_straight_flush 0.09\n",
      "highest_royal_straight_flush 0.03\n"
     ]
    }
   ],
   "source": [
    "ranks = ['2', '3', '4', '5', '6', '7', '8', '9', '10', 'J', 'Q', 'K', 'A']\n",
    "suits = ['Clubs', 'Diamonds', 'Hearts', 'Spades']\n",
    "deck = list(itertools.product(ranks, suits))\n",
    "\n",
    "def prob(h=7, N=30000):\n",
    "    count={}\n",
    "    for i in range(N):\n",
    "        hand = get_sorted_rank(random.sample(deck, h))\n",
    "\n",
    "        u,d = highest_royal_straight_flush(hand[:])\n",
    "        if u: \n",
    "            count['highest_royal_straight_flush'] = count.get('highest_royal_straight_flush',0)+1\n",
    "            continue\n",
    "        u,d = highest_straight_flush(hand[:])\n",
    "        if u: \n",
    "            count['highest_straight_flush'] = count.get('highest_straight_flush',0)+1\n",
    "            continue\n",
    "        u,d = highest_four(hand[:])\n",
    "        if u: \n",
    "            count['highest_four'] = count.get('highest_four',0)+1\n",
    "            continue\n",
    "        u,d = highest_full_house(hand[:])\n",
    "        if u: \n",
    "            count['highest_full_house'] = count.get('highest_full_house',0)+1\n",
    "            continue\n",
    "        u,d = highest_flush(hand[:])\n",
    "        if u: \n",
    "            count['highest_flush'] = count.get('highest_flush',0)+1\n",
    "            continue\n",
    "        u,d = highest_straight(hand[:])\n",
    "        if u: \n",
    "            count['highest_straight'] = count.get('highest_straight',0)+1\n",
    "            continue\n",
    "        u,d = highest_three(hand[:])\n",
    "        if u: \n",
    "            count['highest_three'] = count.get('highest_three',0)+1\n",
    "            continue\n",
    "        u,d = highest_2_pairs(hand[:])\n",
    "        if u: \n",
    "            count['highest_2_pairs'] = count.get('highest_2_pairs',0)+1\n",
    "            continue\n",
    "        u,d = highest_pair(hand[:])\n",
    "        if u: \n",
    "            count['highest_pair'] = count.get('highest_pair',0)+1\n",
    "            continue\n",
    "        u,d = highest_rank(hand[:])\n",
    "        if u: \n",
    "            count['highest_rank'] = count.get('highest_rank',0)+1\n",
    "            continue\n",
    "    return count\n",
    "\n",
    "for j in [2,5,6,7, 9, 11]:\n",
    "    count = prob(h=j)\n",
    "    print('>>', j)\n",
    "    for i in ['highest_rank',\n",
    "                'highest_pair',\n",
    "                'highest_2_pairs',\n",
    "                'highest_three',\n",
    "                'highest_straight',\n",
    "                'highest_flush',\n",
    "                'highest_full_house',\n",
    "                'highest_four', \n",
    "                'highest_straight_flush',\n",
    "                'highest_royal_straight_flush']:\n",
    "        print(i, round(100*count.get(i,0)/N,2))\n"
   ]
  },
  {
   "cell_type": "code",
   "execution_count": 407,
   "metadata": {
    "collapsed": false
   },
   "outputs": [
    {
     "data": {
      "text/plain": [
       "[('K', 'Clubs'),\n",
       " ('J', 'Hearts'),\n",
       " ('9', 'Spades'),\n",
       " ('7', 'Hearts'),\n",
       " ('6', 'Spades'),\n",
       " ('5', 'Clubs'),\n",
       " ('4', 'Spades')]"
      ]
     },
     "execution_count": 407,
     "metadata": {},
     "output_type": "execute_result"
    }
   ],
   "source": [
    "get_sorted_rank(random.sample(deck, 7))"
   ]
  }
 ],
 "metadata": {
  "hide_input": false,
  "kernelspec": {
   "display_name": "Python 3",
   "language": "python",
   "name": "python3"
  },
  "language_info": {
   "codemirror_mode": {
    "name": "ipython",
    "version": 3
   },
   "file_extension": ".py",
   "mimetype": "text/x-python",
   "name": "python",
   "nbconvert_exporter": "python",
   "pygments_lexer": "ipython3",
   "version": "3.5.2"
  },
  "toc": {
   "colors": {
    "hover_highlight": "#DAA520",
    "running_highlight": "#FF0000",
    "selected_highlight": "#FFD700"
   },
   "moveMenuLeft": true,
   "nav_menu": {
    "height": "12px",
    "width": "252px"
   },
   "navigate_menu": true,
   "number_sections": true,
   "sideBar": true,
   "threshold": 4,
   "toc_cell": false,
   "toc_section_display": "block",
   "toc_window_display": false
  }
 },
 "nbformat": 4,
 "nbformat_minor": 2
}
