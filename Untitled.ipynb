{
 "cells": [
  {
   "cell_type": "code",
   "execution_count": 504,
   "metadata": {
    "collapsed": true
   },
   "outputs": [],
   "source": [
    "import itertools\n",
    "import random"
   ]
  },
  {
   "cell_type": "code",
   "execution_count": 507,
   "metadata": {
    "collapsed": false
   },
   "outputs": [],
   "source": [
    "N = 23\n",
    "H = 2\n",
    "T = 5\n",
    "table = random.sample(deck, T + H*N)\n",
    "game = table[:T],[table[T+i*H:T+(i+1)*H] for i in range(N)]"
   ]
  },
  {
   "cell_type": "code",
   "execution_count": 508,
   "metadata": {
    "collapsed": true
   },
   "outputs": [],
   "source": [
    "t = game[0]\n",
    "h = game[1][0]\n",
    "big_suit = sorted(t+h, key=lambda k: suits_weight[k[1]], reverse=True)\n",
    "big_rank = sorted(big_suit, key=lambda k: ranks_weight[k[0]], reverse=True)"
   ]
  },
  {
   "cell_type": "code",
   "execution_count": 633,
   "metadata": {
    "collapsed": false
   },
   "outputs": [],
   "source": [
    "ranks_weight = {'2':2, '3':3, '4':4, '5':5, '6':6, '7':7,  '8':8,  '9':9,  'T':10,  'J':11,  'Q':12,  'K':13, 'A':14}\n",
    "suits_weight = {'♣':1, '♦':2, '♥':3, '♠':4}\n",
    "\n",
    "ranks = ['2', '3', '4', '5', '6', '7', '8', '9', 'T', 'J', 'Q', 'K', 'A']\n",
    "suits = ['♣', '♦', '♥', '♠']\n",
    "deck = list(itertools.product(ranks, suits))\n",
    "\n",
    "\n",
    "\n",
    "def get_sorted_rank(H):\n",
    "    return sorted(H, key=lambda k: ranks_weight[k[0]], reverse=True)\n",
    "\n",
    "def get_sorted_suit(H):\n",
    "    return sorted(H, key=lambda k: suits_weight[k[1]], reverse=True)\n",
    "\n",
    "def highest_rank(H):\n",
    "    return H[:1], H[1:]\n",
    "\n",
    "def highest_pair(H):\n",
    "    r = [],H\n",
    "    for i in range(len(H)-1):\n",
    "        if H[i][0]==H[i+1][0]:\n",
    "            r = H[i:i+2],H[0:i]+H[i+2:]\n",
    "            break\n",
    "    return r\n",
    "\n",
    "def highest_2_pairs(H):\n",
    "    r = [],H\n",
    "    a,b = highest_pair(H[:])\n",
    "    c,d = highest_pair(b[:]) if a else (False, None)\n",
    "    if c: r = a+c,d\n",
    "    return r\n",
    "\n",
    "def highest_three(H):\n",
    "    r = [],H\n",
    "    for i in range(len(H)-2):\n",
    "        if H[i][0]==H[i+1][0]==H[i+2][0]:\n",
    "            r = H[i:i+2],H[0:i]+H[i+2:]\n",
    "            break\n",
    "    return r\n",
    "\n",
    "def highest_straight(H):\n",
    "    r = [],[i for i in H]\n",
    "    v0 = 6 if H[0][0]=='A' else 0\n",
    "    U,D = [],[]\n",
    "    last = H.pop(0)\n",
    "    U.append(last)\n",
    "    for i in range(len(H)):\n",
    "        new = H.pop(0)\n",
    "        if last[0]==new[0]:\n",
    "            D.append(new)\n",
    "        else:\n",
    "            U.append(new)\n",
    "            last = new\n",
    "    v1=v2=v3=v4=v5=-1\n",
    "    for i in range(len(U)-4):\n",
    "        v1 = ranks_weight[U[i][0]]\n",
    "        v2 = ranks_weight[U[i+1][0]]+1\n",
    "        v3 = ranks_weight[U[i+2][0]]+2\n",
    "        v4 = ranks_weight[U[i+3][0]]+3\n",
    "        v5 = ranks_weight[U[i+4][0]]+4\n",
    "        if v1==v2==v3==v4==v5:\n",
    "            r = U[i:i+5],get_sorted_rank(U[i+5:]+U[0:i]+D)\n",
    "            break\n",
    "    if v0==v2==v3==v4==v5:\n",
    "        r = U[0:1]+U[-4:],get_sorted_rank(D+U[1:-4])\n",
    "\n",
    "    return r\n",
    "\n",
    "def highest_flush(H):\n",
    "    H = get_sorted_suit(H[:])\n",
    "    r = [],H\n",
    "    for i in range(len(H)-4):\n",
    "        if H[i][1]==H[i+1][1]==H[i+2][1]==H[i+3][1]==H[i+4][1]:\n",
    "            r = get_sorted_rank(H[i:i+5]), get_sorted_rank(H[0:i]+H[i+5:])\n",
    "            break\n",
    "    return r\n",
    "\n",
    "def highest_full_house(H):\n",
    "    r = [],H\n",
    "    a,b = highest_three(H[:])\n",
    "    c,d = highest_pair(b[:]) if a else (False, None)\n",
    "    if c: r = a+c,d\n",
    "    return r\n",
    "\n",
    "def highest_four(H):\n",
    "    r = [],H\n",
    "    for i in range(len(H)-3):\n",
    "        if H[i][0]==H[i+1][0]==H[i+2][0]==H[i+3][0]:\n",
    "            r = H[i:i+4],H[0:i]+H[i+4:]\n",
    "            break\n",
    "    return r\n",
    "\n",
    "\n",
    "def _highest_count_suit(H):\n",
    "    S = {}\n",
    "    for k,v in suits_weight.items():\n",
    "        S[v] = []\n",
    "    for i in range(len(H)):\n",
    "        new = H.pop(0)\n",
    "        S[suits_weight[new[1]]].append(new)\n",
    "    m = -1\n",
    "    l = -1\n",
    "    for k,v in suits_weight.items():\n",
    "        x = len(S[v])\n",
    "        if x>m: \n",
    "            m=x\n",
    "            l=v\n",
    "    r1,r2 =[],[]\n",
    "    for k,v in suits_weight.items():\n",
    "        if v==l:\n",
    "            r1 = r1 + S[v]\n",
    "        else:\n",
    "            r2 = r2 + S[v]\n",
    "    return get_sorted_rank(r1),get_sorted_rank(r2)\n",
    "\n",
    "def highest_straight_flush(H):\n",
    "    r = [],H\n",
    "    a,b = _highest_count_suit(H[:])\n",
    "    c,d = highest_straight(a[:]) if len(a)>=5 else (False, None)\n",
    "    if c: r = c,get_sorted_rank(b+d)\n",
    "    return r\n",
    "\n",
    "def highest_royal_straight_flush(H):\n",
    "    r = [],H\n",
    "    a,b = highest_straight_flush(H[:])\n",
    "    if a and a[1][0]=='K': r = a,b\n",
    "    return r\n",
    "\n",
    "\n",
    "def check_hand(H=[]):\n",
    "    hand = get_sorted_rank(H)\n",
    "\n",
    "    u,d = highest_royal_straight_flush(hand[:])\n",
    "    if u: return 'highest_royal_straight_flush',10,u\n",
    "    \n",
    "    u,d = highest_straight_flush(hand[:])\n",
    "    if u: return 'highest_straight_flush',9,u\n",
    "    \n",
    "    u,d = highest_four(hand[:])\n",
    "    if u: return 'highest_four',8,u\n",
    "    \n",
    "    u,d = highest_full_house(hand[:])\n",
    "    if u: return 'highest_full_house',7,u\n",
    "    \n",
    "    u,d = highest_flush(hand[:])\n",
    "    if u: return 'highest_flush',6,u\n",
    "    \n",
    "    u,d = highest_straight(hand[:])\n",
    "    if u: return 'highest_straight',5,u\n",
    "    \n",
    "    u,d = highest_three(hand[:])\n",
    "    if u: return 'highest_three',4,u\n",
    "    \n",
    "    u,d = highest_2_pairs(hand[:])\n",
    "    if u: return 'highest_2_pairs',3,u\n",
    "    \n",
    "    u,d = highest_pair(hand[:])\n",
    "    if u: return 'highest_pair',2,u\n",
    "    \n",
    "    u,d = highest_rank(hand[:])\n",
    "    if u: return 'highest_rank',1,u\n",
    "    "
   ]
  },
  {
   "cell_type": "code",
   "execution_count": 691,
   "metadata": {
    "collapsed": false,
    "scrolled": false
   },
   "outputs": [],
   "source": [
    "N_PLAYERS = 3\n",
    "HAND_SIZE = 2\n",
    "TABLE_SIZE = 5\n",
    "'♣', '♦', '♥', '♠'\n",
    "c = {}\n",
    "dh = {}\n",
    "for i in range(100000):\n",
    "    table = random.sample(deck, TABLE_SIZE + HAND_SIZE*N_PLAYERS)\n",
    "    game = table[:TABLE_SIZE],[table[TABLE_SIZE+i*HAND_SIZE:TABLE_SIZE+(i+1)*HAND_SIZE] for i in range(N_PLAYERS)]\n",
    "    table_cards = game[0]\n",
    "    table_cards = ['K♠','9♠','7♠','4♠','2♥']\n",
    "    hands = game[1]\n",
    "    m = 0\n",
    "    h = None\n",
    "    for hand in hands:\n",
    "        high, w, high_hand = check_hand(get_sorted_rank(hand+table_cards))\n",
    "        if w>m: \n",
    "            m=w\n",
    "            h=hand\n",
    "    mh = get_sorted_rank([h[0][0], h[1][0]])\n",
    "    xh = '{}{}'.format(mh[0], mh[1])\n",
    "    dh[xh] = 1 + dh.get(xh,0)\n",
    "    c[m] = 1 + c.get(m, 0)"
   ]
  },
  {
   "cell_type": "code",
   "execution_count": 725,
   "metadata": {
    "collapsed": false
   },
   "outputs": [
    {
     "data": {
      "image/png": "[encoded data removed]",
      "text/plain": [
       "<matplotlib.figure.Figure at 0x7f73a431a128>"
      ]
     },
     "metadata": {},
     "output_type": "display_data"
    },
    {
     "data": {
      "text/plain": [
       "[(1, 0.33333333333333326),\n",
       " (2, 0.5555555555555555),\n",
       " (3, 0.7037037037037036),\n",
       " (4, 0.802469135802469),\n",
       " (5, 0.868312757201646),\n",
       " (6, 0.9122085048010973),\n",
       " (7, 0.9414723365340649),\n",
       " (8, 0.9609815576893765),\n",
       " (9, 0.9739877051262511),\n",
       " (10, 0.9826584700841674)]"
      ]
     },
     "execution_count": 725,
     "metadata": {},
     "output_type": "execute_result"
    }
   ],
   "source": [
    "p = 1/3\n",
    "plot([n for n in range(1,11)], [1-(1-p)**n for n in range(1,11)])\n",
    "show()\n",
    "[(n,1-(1-p)**n) for n in range(1,11)]"
   ]
  },
  {
   "cell_type": "code",
   "execution_count": 783,
   "metadata": {
    "collapsed": false
   },
   "outputs": [
    {
     "name": "stdout",
     "output_type": "stream",
     "text": [
      "one: 14.864 % , equal: 0.458 % , two: 1.216 %\n"
     ]
    }
   ],
   "source": [
    "ranks = ['2', '3', '4', '5', '6', '7', '8', '9', 'T', 'J', 'Q', 'K', 'A']\n",
    "suits = ['♣', '♦', '♥', '♠']\n",
    "deck = list(itertools.product(ranks, suits))\n",
    "two = 0\n",
    "one = 0\n",
    "equal = 0\n",
    "N=100000\n",
    "for i in range(N):\n",
    "    h = ('A','2')\n",
    "    c1,c2 = random.sample(deck, 2)\n",
    "    if c1[0]==h[0] or c2[0]==h[0]:\n",
    "        one+=1\n",
    "    if (c1[0],c2[0])==(h[0],h[0]):\n",
    "        equal+=1\n",
    "    if (c1[0],c2[0])==h or (c2[0],c1[0])==h:\n",
    "        two+=1 \n",
    "\n",
    "print('one:',100*one/N,'%',', equal:',100*equal/N,'%',', two:', 100*two/N,'%')"
   ]
  },
  {
   "cell_type": "code",
   "execution_count": null,
   "metadata": {
    "collapsed": true
   },
   "outputs": [],
   "source": [
    "rank\n",
    "suit\n",
    "specific card\n",
    "---\n",
    "same for two equal\n",
    "same for two different\n",
    "---\n",
    "1 out\n",
    "2 out"
   ]
  },
  {
   "cell_type": "code",
   "execution_count": 811,
   "metadata": {
    "collapsed": false
   },
   "outputs": [
    {
     "name": "stdout",
     "output_type": "stream",
     "text": [
      "removed: ['A♦', '5♥', '8♠', '9♣', 'T♦']\n",
      "1rank 16.5006 %\n",
      "1suit 44.9845 %\n",
      "1specific 4.2498 %\n",
      "2rank 0.5508 %\n",
      "2samesuit 6.0747 %\n",
      "2specific 0.0933 %\n",
      "\n",
      "removed: ['2♦', '7♥', '4♠', '9♣', '8♦']\n",
      "1rank 12.4694 %\n",
      "1suit 44.9459 %\n",
      "1specific 4.2185 %\n",
      "2rank 0.2756 %\n",
      "2samesuit 6.1482 %\n",
      "2specific 0.0928 %\n",
      "\n",
      "removed: ['2♦', '2♥', '4♠', '9♣', '8♦']\n",
      "1rank 8.4329 %\n",
      "1suit 44.9819 %\n",
      "1specific 4.2424 %\n",
      "2rank 0.0913 %\n",
      "2samesuit 6.1198 %\n",
      "2specific 0.0913 %\n",
      "\n",
      "removed: ['2♦', '2♥', '2♣', '9♠', '8♦']\n",
      "1rank 4.2409 %\n",
      "1suit 44.9481 %\n",
      "1specific 4.2409 %\n",
      "2rank 0.0 %\n",
      "2samesuit 6.0996 %\n",
      "2specific 0.0 %\n",
      "\n",
      "removed: ['2♦', '2♥', '2♣', '3♠', '8♦']\n",
      "1rank 4.2742 %\n",
      "1suit 45.02 %\n",
      "1specific 4.2742 %\n",
      "2rank 0.0 %\n",
      "2samesuit 6.1069 %\n",
      "2specific 0.0 %\n",
      "\n"
     ]
    }
   ],
   "source": [
    "deck = ['{}{}'.format(i[0],i[1]) for i in deck]\n",
    "N=1000000\n",
    "tables = [\n",
    "    ['A♦','5♥','8♠','9♣','T♦'],\n",
    "    ['2♦','7♥','4♠','9♣','8♦'],\n",
    "    ['2♦','2♥','4♠','9♣','8♦'],\n",
    "    ['2♦','2♥','2♣','9♠','8♦'],\n",
    "    ['2♦','2♥','2♣','3♠','8♦'],\n",
    "]\n",
    "for table in tables:\n",
    "    d = deck.copy()\n",
    "    for card in table:\n",
    "        d.remove(card)\n",
    "    c = {}\n",
    "    print('removed:', table)\n",
    "    for i in range(N):\n",
    "        h1,h2 = '2♠','2♣'\n",
    "        c1,c2 = random.sample(d, 2)\n",
    "        if c1[0]==h1[0] or c2[0]==h1[0]:\n",
    "            c['1rank']=1+c.get('1rank',0)\n",
    "        if c1[1]==h1[1] or c2[1]==h1[1]:\n",
    "            c['1suit']=1+c.get('1suit',0)\n",
    "        if c1==h1 or c2==h1:\n",
    "            c['1specific']=1+c.get('1specific',0)\n",
    "\n",
    "        #---\n",
    "\n",
    "        if (c1[0]==h1[0] and c2[0]==h2[0]) or (c2[0]==h1[0] and c1[0]==h2[0]):\n",
    "            c['2rank']=1+c.get('2rank',0)\n",
    "        if c1[1]==h1[1] and c2[1]==h1[1]:\n",
    "            c['2samesuit']=1+c.get('2samesuit',0)\n",
    "        if (c1==h1 and c2==h2) or (c2==h1 and c1==h2):\n",
    "            c['2specific']=1+c.get('2specific',0)\n",
    "\n",
    "    print('1rank',100*c.get('1rank',0)/N,'%')\n",
    "    print('1suit',100*c.get('1suit',0)/N,'%')\n",
    "    print('1specific',100*c.get('1specific',0)/N,'%')\n",
    "\n",
    "    print('2rank',100*c.get('2rank',0)/N,'%')\n",
    "    print('2samesuit',100*c.get('2samesuit',0)/N,'%')\n",
    "    print('2specific',100*c.get('2specific',0)/N,'%')\n",
    "    print()"
   ]
  },
  {
   "cell_type": "code",
   "execution_count": null,
   "metadata": {
    "collapsed": true
   },
   "outputs": [],
   "source": [
    "r0\n",
    "1rank 16.4442 %\n",
    "2rank 1.4879 %\n",
    "\n",
    "r1\n",
    "1rank 12.4522 %\n",
    "2rank 1.119 %\n",
    "\n",
    "r2\n",
    "1rank 8.4165 %\n",
    "2rank 0.7411 %\n",
    "\n",
    "r3\n",
    "1rank 4.2683 %\n",
    "2rank 0.3703 %\n",
    "\n",
    "---\n",
    "\n",
    "1suit 45 %\n",
    "\n",
    "2samesuit 6 %\n",
    "\n",
    "1rank - 4.2% each in deck\n",
    "    1specific 4.2 %\n",
    "\n",
    "2rank - 0.37% each in deck\n",
    "    2specific 0.1 %"
   ]
  },
  {
   "cell_type": "code",
   "execution_count": null,
   "metadata": {
    "collapsed": true
   },
   "outputs": [],
   "source": [
    "'highest_royal_straight_flush',10,u\n",
    "'highest_straight_flush',9,u\n",
    "'highest_four',8,u\n",
    "'highest_full_house',7,u\n",
    "'highest_flush',6,u\n",
    "'highest_straight',5,u\n",
    "'highest_three',4,u\n",
    "'highest_2_pairs',3,u\n",
    "'highest_pair',2,u\n",
    "'highest_rank',1,u"
   ]
  },
  {
   "cell_type": "markdown",
   "metadata": {},
   "source": [
    "gambler's ruin'\n",
    "\n",
    "if p=0.5 => $p = n1/(n1+n2)$"
   ]
  },
  {
   "cell_type": "code",
   "execution_count": 830,
   "metadata": {
    "collapsed": false
   },
   "outputs": [
    {
     "data": {
      "text/plain": [
       "0.5714797698089811"
      ]
     },
     "execution_count": 830,
     "metadata": {},
     "output_type": "execute_result"
    }
   ],
   "source": [
    "n1 = 1\n",
    "n2 = 10\n",
    "p=0.7\n",
    "q=1-p\n",
    "(1-(q/p)**n1)/(1-(q/p)**(n1+n2))"
   ]
  },
  {
   "cell_type": "code",
   "execution_count": 840,
   "metadata": {
    "collapsed": false
   },
   "outputs": [
    {
     "name": "stdout",
     "output_type": "stream",
     "text": [
      "0.07999999999999996\n",
      "0.15359999999999996\n",
      "0.22131199999999995\n",
      "0.2836070399999999\n",
      "0.34091847679999987\n",
      "0.3936449986559999\n",
      "0.4421533987635198\n",
      "0.48678112686243824\n",
      "0.5278386367134431\n"
     ]
    }
   ],
   "source": [
    "p = 0.08\n",
    "N=10\n",
    "for i in range(1,N):\n",
    "    print(1-(1-p)**i)"
   ]
  }
 ],
 "metadata": {
  "hide_input": false,
  "kernelspec": {
   "display_name": "Python 3",
   "language": "python",
   "name": "python3"
  },
  "language_info": {
   "codemirror_mode": {
    "name": "ipython",
    "version": 3
   },
   "file_extension": ".py",
   "mimetype": "text/x-python",
   "name": "python",
   "nbconvert_exporter": "python",
   "pygments_lexer": "ipython3",
   "version": "3.5.2"
  },
  "toc": {
   "colors": {
    "hover_highlight": "#DAA520",
    "running_highlight": "#FF0000",
    "selected_highlight": "#FFD700"
   },
   "moveMenuLeft": true,
   "nav_menu": {
    "height": "12px",
    "width": "252px"
   },
   "navigate_menu": true,
   "number_sections": true,
   "sideBar": true,
   "threshold": 4,
   "toc_cell": false,
   "toc_section_display": "block",
   "toc_window_display": false
  }
 },
 "nbformat": 4,
 "nbformat_minor": 2
}
